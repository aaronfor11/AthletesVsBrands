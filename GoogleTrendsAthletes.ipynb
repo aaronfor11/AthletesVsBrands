{
 "cells": [
  {
   "cell_type": "markdown",
   "metadata": {},
   "source": [
    "# Hockey data from GoogleTrends\n",
    "\n",
    "Connor Bedard vs Lululemon"
   ]
  },
  {
   "cell_type": "code",
   "execution_count": 1,
   "metadata": {
    "scrolled": true
   },
   "outputs": [
    {
     "name": "stdout",
     "output_type": "stream",
     "text": [
      "            connor bedard  lululemon  isPartial\n",
      "date                                           \n",
      "2022-07-31              1        271          0\n",
      "2022-08-31              3        215          0\n",
      "2022-09-30              0        201          0\n",
      "2022-10-31              4        240          0\n",
      "2022-11-30              4        299          0\n",
      "2022-12-31             10        310          0\n",
      "2023-01-31             27        287          0\n",
      "2023-02-28              5        203          0\n",
      "2023-03-31              6        202          0\n",
      "2023-04-30              7        258          0\n",
      "2023-05-31             12        212          0\n",
      "2023-06-30             10        217          0\n",
      "2023-07-31              6        285          0\n",
      "2023-08-31              4        222          0\n",
      "2023-09-30              5        221          1\n"
     ]
    }
   ],
   "source": [
    "#Pull hockey data from GoogleTrends\n",
    "\n",
    "from pytrends.request import TrendReq\n",
    "import datetime\n",
    "\n",
    "# Create pytrends object\n",
    "pytrends = TrendReq(hl='en-US', tz=360)\n",
    "\n",
    "#Define timeframe\n",
    "start_date = '2022-07-01'\n",
    "\n",
    "# Set the search term\n",
    "keywords = ['connor bedard', 'lululemon']\n",
    "\n",
    "# Build the payload\n",
    "current_date = datetime.datetime.now().strftime('%Y-%m-%d')\n",
    "pytrends.build_payload(keywords, timeframe=f'{start_date} {current_date}', geo='')\n",
    "\n",
    "# Request data from Google Trends API\n",
    "trends_data = pytrends.interest_over_time()\n",
    "\n",
    "#Make data monthly\n",
    "monthly_data = trends_data.resample('M').sum()\n",
    "\n",
    "# Print the retrieved data\n",
    "print(monthly_data)"
   ]
  },
  {
   "cell_type": "code",
   "execution_count": 2,
   "metadata": {},
   "outputs": [],
   "source": [
    "#rename df\n",
    "df1 = monthly_data"
   ]
  },
  {
   "cell_type": "code",
   "execution_count": 3,
   "metadata": {},
   "outputs": [],
   "source": [
    "#drop unnessary column\n",
    "del df1['isPartial']"
   ]
  },
  {
   "cell_type": "code",
   "execution_count": 4,
   "metadata": {},
   "outputs": [],
   "source": [
    "#Reset index to make 'Date' a column\n",
    "#df1 = df1.reset_index()"
   ]
  },
  {
   "cell_type": "code",
   "execution_count": 5,
   "metadata": {
    "scrolled": true
   },
   "outputs": [
    {
     "data": {
      "text/html": [
       "<div>\n",
       "<style scoped>\n",
       "    .dataframe tbody tr th:only-of-type {\n",
       "        vertical-align: middle;\n",
       "    }\n",
       "\n",
       "    .dataframe tbody tr th {\n",
       "        vertical-align: top;\n",
       "    }\n",
       "\n",
       "    .dataframe thead th {\n",
       "        text-align: right;\n",
       "    }\n",
       "</style>\n",
       "<table border=\"1\" class=\"dataframe\">\n",
       "  <thead>\n",
       "    <tr style=\"text-align: right;\">\n",
       "      <th></th>\n",
       "      <th>connor bedard</th>\n",
       "      <th>lululemon</th>\n",
       "    </tr>\n",
       "    <tr>\n",
       "      <th>date</th>\n",
       "      <th></th>\n",
       "      <th></th>\n",
       "    </tr>\n",
       "  </thead>\n",
       "  <tbody>\n",
       "    <tr>\n",
       "      <th>2022-07-31</th>\n",
       "      <td>1</td>\n",
       "      <td>271</td>\n",
       "    </tr>\n",
       "    <tr>\n",
       "      <th>2022-08-31</th>\n",
       "      <td>3</td>\n",
       "      <td>215</td>\n",
       "    </tr>\n",
       "    <tr>\n",
       "      <th>2022-09-30</th>\n",
       "      <td>0</td>\n",
       "      <td>201</td>\n",
       "    </tr>\n",
       "    <tr>\n",
       "      <th>2022-10-31</th>\n",
       "      <td>4</td>\n",
       "      <td>240</td>\n",
       "    </tr>\n",
       "    <tr>\n",
       "      <th>2022-11-30</th>\n",
       "      <td>4</td>\n",
       "      <td>299</td>\n",
       "    </tr>\n",
       "    <tr>\n",
       "      <th>2022-12-31</th>\n",
       "      <td>10</td>\n",
       "      <td>310</td>\n",
       "    </tr>\n",
       "    <tr>\n",
       "      <th>2023-01-31</th>\n",
       "      <td>27</td>\n",
       "      <td>287</td>\n",
       "    </tr>\n",
       "    <tr>\n",
       "      <th>2023-02-28</th>\n",
       "      <td>5</td>\n",
       "      <td>203</td>\n",
       "    </tr>\n",
       "    <tr>\n",
       "      <th>2023-03-31</th>\n",
       "      <td>6</td>\n",
       "      <td>202</td>\n",
       "    </tr>\n",
       "    <tr>\n",
       "      <th>2023-04-30</th>\n",
       "      <td>7</td>\n",
       "      <td>258</td>\n",
       "    </tr>\n",
       "    <tr>\n",
       "      <th>2023-05-31</th>\n",
       "      <td>12</td>\n",
       "      <td>212</td>\n",
       "    </tr>\n",
       "    <tr>\n",
       "      <th>2023-06-30</th>\n",
       "      <td>10</td>\n",
       "      <td>217</td>\n",
       "    </tr>\n",
       "    <tr>\n",
       "      <th>2023-07-31</th>\n",
       "      <td>6</td>\n",
       "      <td>285</td>\n",
       "    </tr>\n",
       "    <tr>\n",
       "      <th>2023-08-31</th>\n",
       "      <td>4</td>\n",
       "      <td>222</td>\n",
       "    </tr>\n",
       "    <tr>\n",
       "      <th>2023-09-30</th>\n",
       "      <td>5</td>\n",
       "      <td>221</td>\n",
       "    </tr>\n",
       "  </tbody>\n",
       "</table>\n",
       "</div>"
      ],
      "text/plain": [
       "            connor bedard  lululemon\n",
       "date                                \n",
       "2022-07-31              1        271\n",
       "2022-08-31              3        215\n",
       "2022-09-30              0        201\n",
       "2022-10-31              4        240\n",
       "2022-11-30              4        299\n",
       "2022-12-31             10        310\n",
       "2023-01-31             27        287\n",
       "2023-02-28              5        203\n",
       "2023-03-31              6        202\n",
       "2023-04-30              7        258\n",
       "2023-05-31             12        212\n",
       "2023-06-30             10        217\n",
       "2023-07-31              6        285\n",
       "2023-08-31              4        222\n",
       "2023-09-30              5        221"
      ]
     },
     "execution_count": 5,
     "metadata": {},
     "output_type": "execute_result"
    }
   ],
   "source": [
    "df1"
   ]
  },
  {
   "cell_type": "markdown",
   "metadata": {},
   "source": [
    "# Basketball data from Google Trends\n",
    "\n",
    "Victor Wembanyama vs Nike"
   ]
  },
  {
   "cell_type": "code",
   "execution_count": 6,
   "metadata": {},
   "outputs": [
    {
     "name": "stdout",
     "output_type": "stream",
     "text": [
      "            victor wembanyama  nike  isPartial\n",
      "date                                          \n",
      "2022-06-30                  0   266          0\n",
      "2022-07-31                  0   360          0\n",
      "2022-08-31                  0   298          0\n",
      "2022-09-30                  0   277          0\n",
      "2022-10-31                  4   350          0\n",
      "2022-11-30                  0   341          0\n",
      "2022-12-31                  0   337          0\n",
      "2023-01-31                  0   358          0\n",
      "2023-02-28                  1   281          0\n",
      "2023-03-31                  0   283          0\n",
      "2023-04-30                  0   365          0\n",
      "2023-05-31                  4   281          0\n",
      "2023-06-30                  6   254          0\n",
      "2023-07-31                  5   342          0\n",
      "2023-08-31                  0   282          0\n",
      "2023-09-30                  0   276          1\n"
     ]
    }
   ],
   "source": [
    "#Pull basketball data from GoogleTrends\n",
    "\n",
    "from pytrends.request import TrendReq\n",
    "import datetime\n",
    "\n",
    "# Create pytrends object\n",
    "pytrends = TrendReq(hl='en-US', tz=360)\n",
    "\n",
    "#Define timeframe\n",
    "start_date = '2022-06-01'\n",
    "\n",
    "# Set the search term\n",
    "keywords = ['victor wembanyama', 'nike']\n",
    "\n",
    "# Build the payload\n",
    "current_date = datetime.datetime.now().strftime('%Y-%m-%d')\n",
    "pytrends.build_payload(keywords, timeframe=f'{start_date} {current_date}', geo='')\n",
    "\n",
    "# Request data from Google Trends API\n",
    "trends_data1 = pytrends.interest_over_time()\n",
    "\n",
    "#Make data monthly\n",
    "monthly_data1 = trends_data1.resample('M').sum()\n",
    "\n",
    "# Print the retrieved data\n",
    "print(monthly_data1)"
   ]
  },
  {
   "cell_type": "code",
   "execution_count": 7,
   "metadata": {},
   "outputs": [],
   "source": [
    "#rename df\n",
    "df2 = monthly_data1"
   ]
  },
  {
   "cell_type": "code",
   "execution_count": 8,
   "metadata": {},
   "outputs": [],
   "source": [
    "#drop unnessary column\n",
    "del df2['isPartial']"
   ]
  },
  {
   "cell_type": "code",
   "execution_count": 9,
   "metadata": {},
   "outputs": [],
   "source": [
    "#Reset index to make 'Date' a column\n",
    "#df2 = df2.reset_index()"
   ]
  },
  {
   "cell_type": "code",
   "execution_count": 10,
   "metadata": {
    "scrolled": true
   },
   "outputs": [
    {
     "data": {
      "text/html": [
       "<div>\n",
       "<style scoped>\n",
       "    .dataframe tbody tr th:only-of-type {\n",
       "        vertical-align: middle;\n",
       "    }\n",
       "\n",
       "    .dataframe tbody tr th {\n",
       "        vertical-align: top;\n",
       "    }\n",
       "\n",
       "    .dataframe thead th {\n",
       "        text-align: right;\n",
       "    }\n",
       "</style>\n",
       "<table border=\"1\" class=\"dataframe\">\n",
       "  <thead>\n",
       "    <tr style=\"text-align: right;\">\n",
       "      <th></th>\n",
       "      <th>victor wembanyama</th>\n",
       "      <th>nike</th>\n",
       "    </tr>\n",
       "    <tr>\n",
       "      <th>date</th>\n",
       "      <th></th>\n",
       "      <th></th>\n",
       "    </tr>\n",
       "  </thead>\n",
       "  <tbody>\n",
       "    <tr>\n",
       "      <th>2022-06-30</th>\n",
       "      <td>0</td>\n",
       "      <td>266</td>\n",
       "    </tr>\n",
       "    <tr>\n",
       "      <th>2022-07-31</th>\n",
       "      <td>0</td>\n",
       "      <td>360</td>\n",
       "    </tr>\n",
       "    <tr>\n",
       "      <th>2022-08-31</th>\n",
       "      <td>0</td>\n",
       "      <td>298</td>\n",
       "    </tr>\n",
       "    <tr>\n",
       "      <th>2022-09-30</th>\n",
       "      <td>0</td>\n",
       "      <td>277</td>\n",
       "    </tr>\n",
       "    <tr>\n",
       "      <th>2022-10-31</th>\n",
       "      <td>4</td>\n",
       "      <td>350</td>\n",
       "    </tr>\n",
       "    <tr>\n",
       "      <th>2022-11-30</th>\n",
       "      <td>0</td>\n",
       "      <td>341</td>\n",
       "    </tr>\n",
       "    <tr>\n",
       "      <th>2022-12-31</th>\n",
       "      <td>0</td>\n",
       "      <td>337</td>\n",
       "    </tr>\n",
       "    <tr>\n",
       "      <th>2023-01-31</th>\n",
       "      <td>0</td>\n",
       "      <td>358</td>\n",
       "    </tr>\n",
       "    <tr>\n",
       "      <th>2023-02-28</th>\n",
       "      <td>1</td>\n",
       "      <td>281</td>\n",
       "    </tr>\n",
       "    <tr>\n",
       "      <th>2023-03-31</th>\n",
       "      <td>0</td>\n",
       "      <td>283</td>\n",
       "    </tr>\n",
       "    <tr>\n",
       "      <th>2023-04-30</th>\n",
       "      <td>0</td>\n",
       "      <td>365</td>\n",
       "    </tr>\n",
       "    <tr>\n",
       "      <th>2023-05-31</th>\n",
       "      <td>4</td>\n",
       "      <td>281</td>\n",
       "    </tr>\n",
       "    <tr>\n",
       "      <th>2023-06-30</th>\n",
       "      <td>6</td>\n",
       "      <td>254</td>\n",
       "    </tr>\n",
       "    <tr>\n",
       "      <th>2023-07-31</th>\n",
       "      <td>5</td>\n",
       "      <td>342</td>\n",
       "    </tr>\n",
       "    <tr>\n",
       "      <th>2023-08-31</th>\n",
       "      <td>0</td>\n",
       "      <td>282</td>\n",
       "    </tr>\n",
       "    <tr>\n",
       "      <th>2023-09-30</th>\n",
       "      <td>0</td>\n",
       "      <td>276</td>\n",
       "    </tr>\n",
       "  </tbody>\n",
       "</table>\n",
       "</div>"
      ],
      "text/plain": [
       "            victor wembanyama  nike\n",
       "date                               \n",
       "2022-06-30                  0   266\n",
       "2022-07-31                  0   360\n",
       "2022-08-31                  0   298\n",
       "2022-09-30                  0   277\n",
       "2022-10-31                  4   350\n",
       "2022-11-30                  0   341\n",
       "2022-12-31                  0   337\n",
       "2023-01-31                  0   358\n",
       "2023-02-28                  1   281\n",
       "2023-03-31                  0   283\n",
       "2023-04-30                  0   365\n",
       "2023-05-31                  4   281\n",
       "2023-06-30                  6   254\n",
       "2023-07-31                  5   342\n",
       "2023-08-31                  0   282\n",
       "2023-09-30                  0   276"
      ]
     },
     "execution_count": 10,
     "metadata": {},
     "output_type": "execute_result"
    }
   ],
   "source": [
    "df2"
   ]
  },
  {
   "cell_type": "markdown",
   "metadata": {},
   "source": [
    "# Show Bedard vs Lulu in a graph"
   ]
  },
  {
   "cell_type": "code",
   "execution_count": 11,
   "metadata": {
    "scrolled": true
   },
   "outputs": [
    {
     "data": {
      "image/png": "[encoded data removed]",
      "text/plain": [
       "<Figure size 432x288 with 1 Axes>"
      ]
     },
     "metadata": {
      "needs_background": "light"
     },
     "output_type": "display_data"
    }
   ],
   "source": [
    "#Model Data in a graph\n",
    "\n",
    "import matplotlib.pyplot as plt\n",
    "\n",
    "#Create a line plot\n",
    "plt.plot(df1.index, df1['connor bedard'], label='Bedard')\n",
    "plt.plot(df1.index, df1['lululemon'], label='Lulu')\n",
    "\n",
    "#Customize the line plot\n",
    "plt.xlabel('Date')\n",
    "plt.ylabel('Interest')\n",
    "plt.title('Google Trends: Bedard and Lulu Correlation')\n",
    "plt.legend()\n",
    "\n",
    "#Display Plot\n",
    "plt.show()"
   ]
  },
  {
   "cell_type": "markdown",
   "metadata": {},
   "source": [
    "# Show Wembanyama vs Nike in a graph"
   ]
  },
  {
   "cell_type": "code",
   "execution_count": 12,
   "metadata": {
    "scrolled": true
   },
   "outputs": [
    {
     "data": {
      "image/png": "[encoded data removed]",
      "text/plain": [
       "<Figure size 432x288 with 1 Axes>"
      ]
     },
     "metadata": {
      "needs_background": "light"
     },
     "output_type": "display_data"
    }
   ],
   "source": [
    "#Model Data in a graph\n",
    "\n",
    "import matplotlib.pyplot as plt\n",
    "\n",
    "#Create a line plot\n",
    "plt.plot(df2.index, df2['victor wembanyama'], label='Wembanyama')\n",
    "plt.plot(df2.index, df2['nike'], label='Nike')\n",
    "\n",
    "#Customize the line plot\n",
    "plt.xlabel('Date')\n",
    "plt.ylabel('Interest')\n",
    "plt.title('Google Trends: Wembanyama and Nike Correlation')\n",
    "plt.legend()\n",
    "\n",
    "#Display Plot\n",
    "plt.show()"
   ]
  },
  {
   "cell_type": "markdown",
   "metadata": {},
   "source": [
    "\n",
    "# Combine the two datasets"
   ]
  },
  {
   "cell_type": "code",
   "execution_count": 13,
   "metadata": {
    "scrolled": false
   },
   "outputs": [
    {
     "name": "stdout",
     "output_type": "stream",
     "text": [
      "            connor bedard  lululemon  victor wembanyama  nike  isPartial\n",
      "date                                                                    \n",
      "2022-06-30              0         23                  0   266          0\n",
      "2022-07-31              0         31                  0   360          0\n",
      "2022-08-31              0         25                  0   298          0\n",
      "2022-09-30              0         24                  0   277          0\n",
      "2022-10-31              0         29                  4   350          0\n",
      "2022-11-30              0         36                  0   341          0\n",
      "2022-12-31              1         37                  0   337          0\n",
      "2023-01-31              2         34                  0   358          0\n",
      "2023-02-28              0         24                  1   281          0\n",
      "2023-03-31              0         24                  0   283          0\n",
      "2023-04-30              0         30                  0   365          0\n",
      "2023-05-31              1         25                  4   281          0\n",
      "2023-06-30              1         26                  6   254          0\n",
      "2023-07-31              0         34                  5   342          0\n",
      "2023-08-31              0         26                  0   282          0\n",
      "2023-09-30              0         26                  0   276          1\n"
     ]
    }
   ],
   "source": [
    "#Pull all data from GoogleTrends into one df\n",
    "\n",
    "from pytrends.request import TrendReq\n",
    "import datetime\n",
    "\n",
    "# Create pytrends object\n",
    "pytrends = TrendReq(hl='en-US', tz=360)\n",
    "\n",
    "#Define timeframe\n",
    "start_date = '2022-06-01'\n",
    "\n",
    "# Set the search term\n",
    "keywords = ['connor bedard', 'lululemon', 'victor wembanyama', 'nike']\n",
    "\n",
    "# Build the payload\n",
    "current_date = datetime.datetime.now().strftime('%Y-%m-%d')\n",
    "pytrends.build_payload(keywords, timeframe=f'{start_date} {current_date}', geo='')\n",
    "\n",
    "# Request data from Google Trends API\n",
    "trends_data2 = pytrends.interest_over_time()\n",
    "\n",
    "#Make data monthly\n",
    "monthly_data2 = trends_data2.resample('M').sum()\n",
    "\n",
    "# Print the retrieved data\n",
    "print(monthly_data2)"
   ]
  },
  {
   "cell_type": "code",
   "execution_count": 14,
   "metadata": {},
   "outputs": [],
   "source": [
    "#rename df\n",
    "df3 = monthly_data2"
   ]
  },
  {
   "cell_type": "code",
   "execution_count": 15,
   "metadata": {},
   "outputs": [],
   "source": [
    "#drop unnessary column\n",
    "del df3['isPartial']"
   ]
  },
  {
   "cell_type": "code",
   "execution_count": 16,
   "metadata": {},
   "outputs": [],
   "source": [
    "#Reset index to make 'Date' a column\n",
    "#df3 = df3.reset_index()"
   ]
  },
  {
   "cell_type": "markdown",
   "metadata": {},
   "source": [
    "# Show all data combined into one graph"
   ]
  },
  {
   "cell_type": "code",
   "execution_count": 17,
   "metadata": {},
   "outputs": [
    {
     "data": {
      "image/png": "[encoded data removed]",
      "text/plain": [
       "<Figure size 432x288 with 1 Axes>"
      ]
     },
     "metadata": {
      "needs_background": "light"
     },
     "output_type": "display_data"
    }
   ],
   "source": [
    "#Model Data in a graph\n",
    "\n",
    "import matplotlib.pyplot as plt\n",
    "\n",
    "#Create a line plot\n",
    "plt.plot(df3.index, df3['connor bedard'], label='Bedard')\n",
    "plt.plot(df3.index, df3['lululemon'], label='Lulu')\n",
    "plt.plot(df3.index, df3['victor wembanyama'], label='Wembanyama')\n",
    "plt.plot(df3.index, df3['nike'], label='Nike')\n",
    "\n",
    "#Customize the line plot\n",
    "plt.xlabel('Date')\n",
    "plt.ylabel('Interest')\n",
    "plt.title('Google Trends: Wembanyama and Nike Correlation')\n",
    "plt.legend()\n",
    "\n",
    "#Display Plot\n",
    "plt.show()"
   ]
  },
  {
   "cell_type": "markdown",
   "metadata": {},
   "source": [
    "# Get the average impression per variable"
   ]
  },
  {
   "cell_type": "code",
   "execution_count": 18,
   "metadata": {
    "scrolled": true
   },
   "outputs": [
    {
     "data": {
      "text/plain": [
       "connor bedard          0.3125\n",
       "lululemon             28.3750\n",
       "victor wembanyama      1.2500\n",
       "nike                 309.4375\n",
       "dtype: float64"
      ]
     },
     "execution_count": 18,
     "metadata": {},
     "output_type": "execute_result"
    }
   ],
   "source": [
    "average = df3.mean(axis=0)\n",
    "average"
   ]
  }
 ],
 "metadata": {
  "kernelspec": {
   "display_name": "Python 3",
   "language": "python",
   "name": "python3"
  },
  "language_info": {
   "codemirror_mode": {
    "name": "ipython",
    "version": 3
   },
   "file_extension": ".py",
   "mimetype": "text/x-python",
   "name": "python",
   "nbconvert_exporter": "python",
   "pygments_lexer": "ipython3",
   "version": "3.7.6"
  }
 },
 "nbformat": 4,
 "nbformat_minor": 4
}
